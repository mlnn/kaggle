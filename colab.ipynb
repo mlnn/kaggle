{
 "cells": [
  {
   "cell_type": "code",
   "execution_count": null,
   "metadata": {
    "collapsed": true
   },
   "outputs": [],
   "source": [
    "# Runtime->Change runtime type->GPU or TPU\n",
    "# check it\n",
    "import tensorflow as tf\n",
    "tf.test.gpu_device_name()"
   ]
  },
  {
   "cell_type": "code",
   "execution_count": null,
   "metadata": {
    "collapsed": true
   },
   "outputs": [],
   "source": [
    "# mount google\n",
    "from google.colab import drive\n",
    "drive.mount('/content/drive')"
   ]
  },
  {
   "cell_type": "code",
   "execution_count": null,
   "metadata": {
    "collapsed": true
   },
   "outputs": [],
   "source": [
    "# kaggle in colab - upload json from kaggle API\n",
    "# download key from kaggle and put it in below by upload\n",
    "from google.colab import files\n",
    "files.upload()\n",
    "\n",
    "# Let's make sure the kaggle.json file is present.\n",
    "!ls -lha kaggle.json\n",
    "# Next, install the Kaggle API client.\n",
    "!pip install -q kaggle\n",
    "# The Kaggle API client expects this file to be in ~/.kaggle,\n",
    "# so move it there.\n",
    "!mkdir -p ~/.kaggle\n",
    "!cp kaggle.json ~/.kaggle/\n",
    "# This permissions change avoids a warning on Kaggle tool startup.\n",
    "!chmod 600 ~/.kaggle/kaggle.json\n",
    "\n",
    "#copy competition\n",
    "!kaggle competitions download -c rsna-pneumonia-detection-challenge"
   ]
  },
  {
   "cell_type": "code",
   "execution_count": null,
   "metadata": {
    "collapsed": true
   },
   "outputs": [],
   "source": [
    "import os\n",
    "import zipfile\n",
    "\n",
    "!mkdir stage_2_test_images\n",
    "!mkdir stage_2_train_images\n",
    "\n",
    "!mv stage_2_train_images.zip stage_2_train_images\n",
    "!mv stage_2_test_images.zip stage_2_test_images\n",
    "\n",
    "os.chdir('stage_2_test_images')\n",
    "\n",
    "for file in os.listdir():\n",
    "    if file.endswith('zip'):\n",
    "        zip_ref = zipfile.ZipFile(file, 'r')\n",
    "        zip_ref.extractall()\n",
    "        zip_ref.close()\n",
    "    \n",
    "os.chdir('../stage_2_train_images')\n",
    "\n",
    "for file in os.listdir():\n",
    "    if file.endswith('zip'):\n",
    "        zip_ref = zipfile.ZipFile(file, 'r')\n",
    "        zip_ref.extractall()\n",
    "        zip_ref.close()\n",
    "\n",
    "os.chdir('..')"
   ]
  }
 ],
 "metadata": {
  "kernelspec": {
   "display_name": "Python 3",
   "language": "python",
   "name": "python3"
  },
  "language_info": {
   "codemirror_mode": {
    "name": "ipython",
    "version": 3
   },
   "file_extension": ".py",
   "mimetype": "text/x-python",
   "name": "python",
   "nbconvert_exporter": "python",
   "pygments_lexer": "ipython3",
   "version": "3.6.3"
  }
 },
 "nbformat": 4,
 "nbformat_minor": 2
}
